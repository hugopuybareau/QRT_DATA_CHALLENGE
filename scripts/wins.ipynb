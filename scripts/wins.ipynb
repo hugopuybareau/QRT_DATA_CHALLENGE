{
 "cells": [
  {
   "cell_type": "code",
   "execution_count": 4,
   "metadata": {},
   "outputs": [
    {
     "name": "stdout",
     "output_type": "stream",
     "text": [
      "      ID  HOME_WINS  DRAW  AWAY_WINS\n",
      "0  12303          0     1          0\n",
      "1  12304          0     1          0\n",
      "2  12305          0     1          0\n",
      "3  12306          0     1          0\n",
      "4  12307          0     1          0\n"
     ]
    }
   ],
   "source": [
    "import pandas as pd\n",
    "\n",
    "df = pd.read_csv(\"../data/Sub_Data/test_sub_scores.csv\")\n",
    "\n",
    "# Mettre toutes les victoires à domicile à 1 et les autres colonnes à 0\n",
    "df['HOME_WINS'] = 0\n",
    "df['DRAW'] = 1\n",
    "df['AWAY_WINS'] = 0\n",
    "\n",
    "# Sauvegarder le fichier modifié en CSV\n",
    "df.to_csv('../data/Sub_Data/dw_sub_scores.csv', index=False)\n",
    "\n",
    "# Affichage du résultat\n",
    "print(df.head(5))"
   ]
  }
 ],
 "metadata": {
  "kernelspec": {
   "display_name": "env_qrt",
   "language": "python",
   "name": "python3"
  },
  "language_info": {
   "codemirror_mode": {
    "name": "ipython",
    "version": 3
   },
   "file_extension": ".py",
   "mimetype": "text/x-python",
   "name": "python",
   "nbconvert_exporter": "python",
   "pygments_lexer": "ipython3",
   "version": "3.12.4"
  }
 },
 "nbformat": 4,
 "nbformat_minor": 2
}
